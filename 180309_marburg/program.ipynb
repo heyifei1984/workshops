{
 "cells": [
  {
   "cell_type": "markdown",
   "metadata": {},
   "source": [
    "# Workshop Marburg 2018\n",
    "\n",
    "### <span style=\"color:red\">Please see the [general information](https://docs.google.com/document/d/18L_rTEd0QA9fnaiqgIKJ_Jk-TZM094AbhdzbyVwc0tY/edit?usp=sharing) and [Workshop Doc](https://goo.gl/aYzr7C) file for supportive material and everything else you need to know.</span>"
   ]
  },
  {
   "cell_type": "markdown",
   "metadata": {},
   "source": [
    "## Friday"
   ]
  },
  {
   "cell_type": "markdown",
   "metadata": {},
   "source": [
    "### `09:00 - 09:30` Breakfast"
   ]
  },
  {
   "cell_type": "markdown",
   "metadata": {},
   "source": [
    "### `09:30 - 10:00` Introduction Workshop\n",
    "\n",
    "* Slides: [intro.html](slides/intro.html)\n",
    "* Slides: [motivation.html](slides/motivation.html)"
   ]
  },
  {
   "cell_type": "markdown",
   "metadata": {},
   "source": [
    "### `10:00 - 11:00` Introduction Docker\n",
    "\n",
    "Slides: [docker.html](slides/docker.html)"
   ]
  },
  {
   "cell_type": "markdown",
   "metadata": {},
   "source": [
    "### `11:00 - 11:30` Introduction to Jupyter Notebook\n",
    "\n",
    "Slides: [jupyter_notebook.html](slides/jupyter_notebook.html)"
   ]
  },
  {
   "cell_type": "markdown",
   "metadata": {},
   "source": [
    "### `11:30 - 12:30` Introduction to Python\n",
    "\n",
    "* Slides: [python_basic.html](slides/python_basic.html)\n",
    "* Notebook: [python/01_python_basic.ipynb](notebooks/python/01_python_basic.ipynb)"
   ]
  },
  {
   "cell_type": "markdown",
   "metadata": {},
   "source": [
    "### `12:30 - 13:00` Data exploration with Python I - plotting\n",
    "\n",
    "* Slides: [python_visualization.html](slides/python_visualization.html)\n",
    "* Notebook: [python/02_python_visualization.ipynb](notebooks/python/02_python_visualization.ipynb)  "
   ]
  },
  {
   "cell_type": "markdown",
   "metadata": {},
   "source": [
    "### `13:00 - 14:00` Lunch"
   ]
  },
  {
   "cell_type": "markdown",
   "metadata": {},
   "source": [
    "### `14:00 - 16:00` Data exploration with Python II - scientific python\n",
    "\n",
    "* Numpy (~50min)\n",
    "    * Slides: [python_numpy.html](slides/python_numpy.html)  \n",
    "    * Notebook: [python/03_python_numpy.ipynb](notebooks/python/03_python_numpy.ipynb)  \n",
    "\n",
    "\n",
    "* Scipy (~20min)\n",
    "    * Slides: [python_scipy.html](slides/python_scipy.html)  \n",
    "    * Notebook: [python/04_python_scipy.ipynb](notebooks/python/04_python_scipy.ipynb)  \n",
    "\n",
    "\n",
    "* Scikit-learn & Scikit-Image (~10min)\n",
    "    * Notebook: [python/05_python_scikit.ipynb](notebooks/python/05_python_scikit.ipynb)\n",
    "\n",
    "\n",
    "* Statistics (~40min)\n",
    "    * Slides: [python_statistics.html](slides/python_statistics.html)\n",
    "    * Notebook: [python/06_python_statistics.ipynb](notebooks/python/06_python_statistics.ipynb)  "
   ]
  },
  {
   "cell_type": "markdown",
   "metadata": {},
   "source": [
    "### `16:00 - 17:00` Python & Neuroimaging\n",
    "\n",
    "Slides: [python_and_neuroimaging.html](slides/python_and_neuroimaging.html)\n",
    "\n",
    "* Nibabel (~15min)\n",
    "    * Notebook: [neuroimaging/03a_nibabel.ipynb](notebooks/neuroimaging/03a_nibabel.ipynb)\n",
    "\n",
    "\n",
    "* Nilearn (~40min)\n",
    "    * Notebook: [neuroimaging/03b_nilearn.ipynb](notebooks/neuroimaging/03b_nilearn.ipynb)\n",
    "\n",
    "\n",
    "* PyMVPA (~5min)\n",
    "    * Notebook: [neuroimaging/03c_pymvpa.ipynb](notebooks/neuroimaging/03c_pymvpa.ipynb)"
   ]
  },
  {
   "cell_type": "markdown",
   "metadata": {},
   "source": [
    "### `17:00 - 18:30` Data management & sharing - Part I\n",
    "\n",
    "* Slides: [data_sharing_management.html](slides/data_sharing_management.html)"
   ]
  },
  {
   "cell_type": "markdown",
   "metadata": {},
   "source": [
    "## Saturday"
   ]
  },
  {
   "cell_type": "markdown",
   "metadata": {},
   "source": [
    "### `09:00 - 09:30` Breakfast"
   ]
  },
  {
   "cell_type": "markdown",
   "metadata": {},
   "source": [
    "### `09:30 - 10:30` Data management & sharing - Part II\n",
    "\n",
    "* Slides: [data_sharing_management.html](slides/data_sharing_management.html)\n",
    "* Notebook: [neuroimaging/04_PyBIDS.ipynb](notebooks/neuroimaging/04_PyBIDS.ipynb)"
   ]
  },
  {
   "cell_type": "markdown",
   "metadata": {},
   "source": [
    "### `10:30 - 11:00` Introduction Nipype\n",
    "\n",
    "* Short introduction to Nipype (~10min)\n",
    "    * Slides: [nipype_tutorial/introduction_nipype.html](https://miykael.github.io/nipype_tutorial/notebooks/introduction_nipype.slides.html)\n",
    "\n",
    "\n",
    "* Showcase of Nipype's strength (~20min)\n",
    "    * Notebook: [neuroimaging/01_nipype_showcase.ipynb](notebooks/neuroimaging/01_nipype_showcase.ipynb)"
   ]
  },
  {
   "cell_type": "markdown",
   "metadata": {},
   "source": [
    "### `11:00 - 13:00` Nipype Interfaces & Workflows\n",
    "\n",
    "* Slides: [nipype_interfaces_and_workflow.html](slides/nipype_interfaces_and_workflow.html)\n",
    "\n",
    "* Notebook: [nipype_tutorial/Basic Concepts](../nipype_tutorial/index.ipynb)"
   ]
  },
  {
   "cell_type": "markdown",
   "metadata": {},
   "source": [
    "### `13:00 - 14:00` Lunch"
   ]
  },
  {
   "cell_type": "markdown",
   "metadata": {},
   "source": [
    "### `14:00 - 17:00` Nipype Hands-On: Preprocessing, 1st & 2nd Analysis\n",
    "\n",
    "* Preprocessing Hands-on (~120min)\n",
    "    * Notebook: [neuroimaging/02a_nipype_handson_preprocessing.ipynb](notebooks/neuroimaging/02a_nipype_handson_preprocessing.ipynb)\n",
    "\n",
    "\n",
    "* Analysis Hands-on (~60min)\n",
    "    * Notebook: [neuroimaging/02b_nipype_handson_analysis.ipynb](notebooks/neuroimaging/02b_nipype_handson_analysis.ipynb)"
   ]
  },
  {
   "cell_type": "markdown",
   "metadata": {},
   "source": [
    "### `17:00 - 18:30` Public keynote lecture by Michael Hanke, followed by a roundtable\n",
    "\n",
    "**Wohoo, so cool!**"
   ]
  },
  {
   "cell_type": "markdown",
   "metadata": {},
   "source": [
    "### `18:30 - 19:00` wine & cheese"
   ]
  },
  {
   "cell_type": "markdown",
   "metadata": {},
   "source": [
    "### `19:00 - ??:??` social event: dinner & bar crawl through Marburg's old town"
   ]
  },
  {
   "cell_type": "markdown",
   "metadata": {},
   "source": [
    "## Sunday"
   ]
  },
  {
   "cell_type": "markdown",
   "metadata": {},
   "source": [
    "### `09:00 - 09:30` Breakfast"
   ]
  },
  {
   "cell_type": "markdown",
   "metadata": {},
   "source": [
    "### `09:30 - 10:00` Introduction and Basic Concepts in MNE"
   ]
  },
  {
   "cell_type": "markdown",
   "metadata": {},
   "source": [
    "### `10:00 - 12:00` Preprocessing & Basic ER[P/F]s"
   ]
  },
  {
   "cell_type": "markdown",
   "metadata": {},
   "source": [
    "### `12:00 - 13:00` Machine Learning/ MVPA/ Decoding Basics"
   ]
  },
  {
   "cell_type": "markdown",
   "metadata": {},
   "source": [
    "### `13:00 - 14:00` Lunch"
   ]
  },
  {
   "cell_type": "markdown",
   "metadata": {},
   "source": [
    "### `14:00 - 16:30` Advanced Analyses"
   ]
  },
  {
   "cell_type": "markdown",
   "metadata": {},
   "source": [
    "### `16:30 - 17:00` Wrap Up & Discussion"
   ]
  }
 ],
 "metadata": {
  "anaconda-cloud": {},
  "kernelspec": {
   "display_name": "Python [default]",
   "language": "python",
   "name": "python3"
  },
  "language_info": {
   "codemirror_mode": {
    "name": "ipython",
    "version": 3
   },
   "file_extension": ".py",
   "mimetype": "text/x-python",
   "name": "python",
   "nbconvert_exporter": "python",
   "pygments_lexer": "ipython3",
   "version": "3.6.4"
  }
 },
 "nbformat": 4,
 "nbformat_minor": 2
}
